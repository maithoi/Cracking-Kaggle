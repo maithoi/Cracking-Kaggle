{
  "nbformat": 4,
  "nbformat_minor": 0,
  "metadata": {
    "colab": {
      "name": "10 Days of Statistics-HACKERANK.ipynb",
      "provenance": [],
      "authorship_tag": "ABX9TyNUOoRyabeVjyYM/YNBNMah",
      "include_colab_link": true
    },
    "kernelspec": {
      "name": "python3",
      "display_name": "Python 3"
    }
  },
  "cells": [
    {
      "cell_type": "markdown",
      "metadata": {
        "id": "view-in-github",
        "colab_type": "text"
      },
      "source": [
        "<a href=\"https://colab.research.google.com/github/maithoi/Cracking-Kaggle/blob/master/10_Days_of_Statistics_HACKERANK.ipynb\" target=\"_parent\"><img src=\"https://colab.research.google.com/assets/colab-badge.svg\" alt=\"Open In Colab\"/></a>"
      ]
    },
    {
      "cell_type": "code",
      "metadata": {
        "id": "UxB6dlxbjrEL",
        "colab_type": "code",
        "colab": {}
      },
      "source": [
        ""
      ],
      "execution_count": 0,
      "outputs": []
    },
    {
      "cell_type": "markdown",
      "metadata": {
        "id": "ZPmvNQ8gj_qu",
        "colab_type": "text"
      },
      "source": [
        "# Find Mode "
      ]
    },
    {
      "cell_type": "markdown",
      "metadata": {
        "id": "ikmLC5czohWi",
        "colab_type": "text"
      },
      "source": [
        "\n",
        "## If all elemennts have equal occurrence then get element with maximum value as MODE\n"
      ]
    },
    {
      "cell_type": "code",
      "metadata": {
        "id": "AEKHDxRKkCgm",
        "colab_type": "code",
        "outputId": "79496c25-6335-4066-89f6-0062740c3f40",
        "colab": {
          "base_uri": "https://localhost:8080/",
          "height": 35
        }
      },
      "source": [
        "import statistics\n",
        "def find_max_mode(list1):\n",
        "    list_table = statistics._counts(list1)\n",
        "    len_table = len(list_table)\n",
        "\n",
        "    if len_table == 1:\n",
        "        max_mode = statistics.mode(list1)\n",
        "    else:\n",
        "        new_list = []\n",
        "        for i in range(len_table):\n",
        "            new_list.append(list_table[i][0])\n",
        "        max_mode = max(new_list) # use the max value here\n",
        "    return max_mode\n",
        "\n",
        "if __name__ == '__main__':\n",
        "    a = [1,1,2,2,3,3, 5,5]\n",
        "    print(find_max_mode(a)) # print 2"
      ],
      "execution_count": 0,
      "outputs": [
        {
          "output_type": "stream",
          "text": [
            "5\n"
          ],
          "name": "stdout"
        }
      ]
    },
    {
      "cell_type": "code",
      "metadata": {
        "id": "3AQB0D1uluWX",
        "colab_type": "code",
        "outputId": "da0c75db-c2a7-45fe-e41c-647c2f8b1553",
        "colab": {
          "base_uri": "https://localhost:8080/",
          "height": 53
        }
      },
      "source": [
        "\n",
        "# count the occurrence of list of numbers.\n",
        "list_table = statistics._counts(a)\n",
        "print(type(list_table))\n",
        "list_table"
      ],
      "execution_count": 0,
      "outputs": [
        {
          "output_type": "stream",
          "text": [
            "<class 'list'>\n"
          ],
          "name": "stdout"
        },
        {
          "output_type": "execute_result",
          "data": {
            "text/plain": [
              "[(1, 2), (2, 2), (3, 2), (5, 2)]"
            ]
          },
          "metadata": {
            "tags": []
          },
          "execution_count": 19
        }
      ]
    },
    {
      "cell_type": "code",
      "metadata": {
        "id": "5ca578pMl9Nu",
        "colab_type": "code",
        "outputId": "6494e4f8-802b-4441-9e76-30c3af92044c",
        "colab": {
          "base_uri": "https://localhost:8080/",
          "height": 35
        }
      },
      "source": [
        "b = [1,1,2,2,3,3, 5,5, 5]\n",
        "list_table = statistics._counts(b)\n",
        "list_table"
      ],
      "execution_count": 0,
      "outputs": [
        {
          "output_type": "execute_result",
          "data": {
            "text/plain": [
              "[(5, 3)]"
            ]
          },
          "metadata": {
            "tags": []
          },
          "execution_count": 30
        }
      ]
    },
    {
      "cell_type": "markdown",
      "metadata": {
        "id": "LOqwpuEs5zQS",
        "colab_type": "text"
      },
      "source": [
        "# Calculate Softmax Function\n"
      ]
    },
    {
      "cell_type": "code",
      "metadata": {
        "id": "naqx6Dzl5vgN",
        "colab_type": "code",
        "colab": {
          "base_uri": "https://localhost:8080/",
          "height": 91
        },
        "outputId": "6cf8fe85-747f-422e-eee0-8479b9b09fe3"
      },
      "source": [
        "import numpy as np \n",
        "test1 = [4.1, 3.2, 1.9, 1.6, 1.5, 2.9]\n",
        "# test2 = [2.0, 3.9, 2.6, 1.7, 1.5, 3.2]\n",
        "# test3 = [3.5, 4.1, 1.6, 3.7, 1.5, 2.2]\n",
        "# test4 = [0.8, 1.1, 2.6, 2.5, 1.5, 0.9]\n",
        "# test5 = [2.5, 3.1, 2.7, 1.7, 2.4, 3.4]\n",
        "# test6 = [3.5, 3.1, 2.9, 1.7, 1.5, 3.4]\n",
        "\n",
        "exps = [np.exp(i) for i in test1]\n",
        "print(exps)\n",
        "\n",
        "sum_exps = np.sum(exps)\n",
        "print(sum_exps)\n",
        "\n",
        "softmax = [i/sum_exps for i in exps]\n",
        "print(\"softmax\", softmax)\n",
        "\n",
        "# TODO \n",
        "# Test2 \n",
        "# Test3 \n",
        "# Test4\n",
        "# Test5 \n",
        "# Test6\n",
        "\n",
        "\n",
        "\n"
      ],
      "execution_count": 39,
      "outputs": [
        {
          "output_type": "stream",
          "text": [
            "[60.34028759736195, 24.532530197109352, 6.6858944422792685, 4.953032424395115, 4.4816890703380645, 18.17414536944306]\n",
            "119.16757910092682\n",
            "softmax [0.50634818675185, 0.2058658099979691, 0.05610497832314586, 0.041563590212739275, 0.03760829165239968, 0.15250914306189603]\n"
          ],
          "name": "stdout"
        }
      ]
    },
    {
      "cell_type": "code",
      "metadata": {
        "id": "vnEa02ck9Nk7",
        "colab_type": "code",
        "colab": {
          "base_uri": "https://localhost:8080/",
          "height": 305
        },
        "outputId": "2c7193e9-5101-4c51-f618-2f8297e92b74"
      },
      "source": [
        "import numpy as np\n",
        "test_input = test1 = [\n",
        "                        [4.1, 3.2, 1.9, 1.6, 1.5, 2.9],\n",
        "                        [2.0, 3.9, 2.6, 1.7, 1.5, 3.2],\n",
        "                        [3.5, 4.1, 1.6, 3.7, 1.5, 2.2],\n",
        "                        [0.8, 1.1, 2.6, 2.5, 1.5, 0.9],\n",
        "                        [2.5, 3.1, 2.7, 1.7, 2.4, 3.4],\n",
        "                        [3.5, 3.1, 2.9, 1.7, 1.5, 3.4]]\n",
        "\n",
        "\n",
        "test_arr = np.asarray(test_input)\n",
        "print(type(test_arr))\n",
        "\n",
        "\n",
        "exps = [np.exp(i) for i in test_arr]\n",
        "print(exps_arr)\n",
        "\n",
        "sum_of_exps = [np.sum(i) for i in exps]\n",
        "print(sum_arr)\n",
        "\n",
        "print('*' * 100)\n",
        "\n",
        "exps_arr = np.array(exps)\n",
        "sum_arr = np.array(sum_of_exps)\n",
        "\n",
        "# Divide elements at the same index --> arr1[i]/ arr2[i]\n",
        "\n",
        "softmax = exps_arr / sum_arr[:, None]\n",
        "\n",
        "print(softmax)\n"
      ],
      "execution_count": 49,
      "outputs": [
        {
          "output_type": "stream",
          "text": [
            "<class 'numpy.ndarray'>\n",
            "[[60.3402876  24.5325302   6.68589444  4.95303242  4.48168907 18.17414537]\n",
            " [ 7.3890561  49.40244911 13.46373804  5.47394739  4.48168907 24.5325302 ]\n",
            " [33.11545196 60.3402876   4.95303242 40.44730436  4.48168907  9.0250135 ]\n",
            " [ 2.22554093  3.00416602 13.46373804 12.18249396  4.48168907  2.45960311]\n",
            " [12.18249396 22.19795128 14.87973172  5.47394739 11.02317638 29.96410005]\n",
            " [33.11545196 22.19795128 18.17414537  5.47394739  4.48168907 29.96410005]]\n",
            "[119.1675791  104.7434099  152.36277891  37.81723113  95.72140079\n",
            " 113.40728512]\n",
            "****************************************************************************************************\n",
            "[[0.50634819 0.20586581 0.05610498 0.04156359 0.03760829 0.15250914]\n",
            " [0.07054435 0.4716521  0.12854019 0.05226054 0.04278731 0.2342155 ]\n",
            " [0.21734607 0.39603037 0.03250815 0.2654671  0.02941459 0.05923372]\n",
            " [0.05884992 0.07943908 0.35602125 0.32214135 0.11850918 0.06503922]\n",
            " [0.12727033 0.23190166 0.15544833 0.05718624 0.11515895 0.31303449]\n",
            " [0.29200463 0.19573655 0.16025554 0.04826804 0.03951853 0.26421671]]\n"
          ],
          "name": "stdout"
        }
      ]
    },
    {
      "cell_type": "markdown",
      "metadata": {
        "id": "XQMa9JDnHUBi",
        "colab_type": "text"
      },
      "source": [
        "\n",
        "[EVALUATE & CALCULATE__Top-N__Accuracy & Error](https://stackoverflow.com/questions/37668902/evaluation-calculate-top-n-accuracy-top-1-and-top-5)\n",
        "\n",
        "## Top-1 Accurracy & Top-5 Accurracy\n",
        "\n",
        "Top-1 accuracy is the conventional accuracy: the model answer (the one with highest probability) must be exactly the expected answer.\n",
        "\n",
        "Top-5 accuracy means that any of your model 5 highest probability answers must match the expected answer.\n",
        "\n",
        "For instance, let's say you're applying machine learning to object recognition using a neural network. A picture of a cat is shown, and these are the outputs of your neural network:\n",
        "\n",
        "1. Tiger: 0.4\n",
        "2. Dog: 0.3\n",
        "3. Cat: 0.1\n",
        "4. Lynx: 0.09\n",
        "5. Lion: 0.08\n",
        "6. Bird: 0.02\n",
        "7. Bear: 0.01\n",
        "\n",
        "\n",
        "\n",
        "\n",
        "\n",
        "\n",
        "\n",
        "\n",
        "\n",
        "Using top-1 accuracy, you count this output as wrong, because it predicted a tiger.\n",
        "\n",
        "Using top-5 accuracy, you count this output as correct, because cat is among the top-5 guesses.\n",
        "\n",
        "\n",
        "## Top-1 Error & Top-5 Error\n",
        "\n",
        "The Complement of the accuracy is the error, The top-1 error is the percentage of time that the classifier did not give the correct class highest probability score. The top-5 error:- The percentage of time that the classifier did not include the correct class among the top 5 probabilities or guesses."
      ]
    },
    {
      "cell_type": "code",
      "metadata": {
        "id": "JY-f4Ai_Hazr",
        "colab_type": "code",
        "colab": {}
      },
      "source": [
        ""
      ],
      "execution_count": 0,
      "outputs": []
    }
  ]
}