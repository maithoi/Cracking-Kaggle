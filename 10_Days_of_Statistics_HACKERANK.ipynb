{
  "nbformat": 4,
  "nbformat_minor": 0,
  "metadata": {
    "colab": {
      "name": "10 Days of Statistics-HACKERANK.ipynb",
      "provenance": [],
      "authorship_tag": "ABX9TyPZNyOcVn4dgHJpaXZtaGuv",
      "include_colab_link": true
    },
    "kernelspec": {
      "name": "python3",
      "display_name": "Python 3"
    }
  },
  "cells": [
    {
      "cell_type": "markdown",
      "metadata": {
        "id": "view-in-github",
        "colab_type": "text"
      },
      "source": [
        "<a href=\"https://colab.research.google.com/github/maithoi/Cracking-Kaggle/blob/master/10_Days_of_Statistics_HACKERANK.ipynb\" target=\"_parent\"><img src=\"https://colab.research.google.com/assets/colab-badge.svg\" alt=\"Open In Colab\"/></a>"
      ]
    },
    {
      "cell_type": "code",
      "metadata": {
        "id": "UxB6dlxbjrEL",
        "colab_type": "code",
        "colab": {}
      },
      "source": [
        ""
      ],
      "execution_count": 0,
      "outputs": []
    },
    {
      "cell_type": "markdown",
      "metadata": {
        "id": "ZPmvNQ8gj_qu",
        "colab_type": "text"
      },
      "source": [
        "# Find Mode "
      ]
    },
    {
      "cell_type": "markdown",
      "metadata": {
        "id": "ikmLC5czohWi",
        "colab_type": "text"
      },
      "source": [
        "\n",
        "## If all elemennts have equal occurrence then get element with maximum value as MODE\n"
      ]
    },
    {
      "cell_type": "code",
      "metadata": {
        "id": "AEKHDxRKkCgm",
        "colab_type": "code",
        "colab": {
          "base_uri": "https://localhost:8080/",
          "height": 35
        },
        "outputId": "79496c25-6335-4066-89f6-0062740c3f40"
      },
      "source": [
        "import statistics\n",
        "def find_max_mode(list1):\n",
        "    list_table = statistics._counts(list1)\n",
        "    len_table = len(list_table)\n",
        "\n",
        "    if len_table == 1:\n",
        "        max_mode = statistics.mode(list1)\n",
        "    else:\n",
        "        new_list = []\n",
        "        for i in range(len_table):\n",
        "            new_list.append(list_table[i][0])\n",
        "        max_mode = max(new_list) # use the max value here\n",
        "    return max_mode\n",
        "\n",
        "if __name__ == '__main__':\n",
        "    a = [1,1,2,2,3,3, 5,5]\n",
        "    print(find_max_mode(a)) # print 2"
      ],
      "execution_count": 18,
      "outputs": [
        {
          "output_type": "stream",
          "text": [
            "5\n"
          ],
          "name": "stdout"
        }
      ]
    },
    {
      "cell_type": "code",
      "metadata": {
        "id": "3AQB0D1uluWX",
        "colab_type": "code",
        "colab": {
          "base_uri": "https://localhost:8080/",
          "height": 53
        },
        "outputId": "da0c75db-c2a7-45fe-e41c-647c2f8b1553"
      },
      "source": [
        "\n",
        "# count the occurrence of list of numbers.\n",
        "list_table = statistics._counts(a)\n",
        "print(type(list_table))\n",
        "list_table"
      ],
      "execution_count": 19,
      "outputs": [
        {
          "output_type": "stream",
          "text": [
            "<class 'list'>\n"
          ],
          "name": "stdout"
        },
        {
          "output_type": "execute_result",
          "data": {
            "text/plain": [
              "[(1, 2), (2, 2), (3, 2), (5, 2)]"
            ]
          },
          "metadata": {
            "tags": []
          },
          "execution_count": 19
        }
      ]
    },
    {
      "cell_type": "code",
      "metadata": {
        "id": "5ca578pMl9Nu",
        "colab_type": "code",
        "colab": {
          "base_uri": "https://localhost:8080/",
          "height": 35
        },
        "outputId": "6494e4f8-802b-4441-9e76-30c3af92044c"
      },
      "source": [
        "b = [1,1,2,2,3,3, 5,5, 5]\n",
        "list_table = statistics._counts(b)\n",
        "list_table"
      ],
      "execution_count": 30,
      "outputs": [
        {
          "output_type": "execute_result",
          "data": {
            "text/plain": [
              "[(5, 3)]"
            ]
          },
          "metadata": {
            "tags": []
          },
          "execution_count": 30
        }
      ]
    }
  ]
}